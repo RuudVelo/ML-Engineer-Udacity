{
 "cells": [
  {
   "cell_type": "markdown",
   "metadata": {},
   "source": [
    "# Validation script for XPower EMA calculation during the ride"
   ]
  },
  {
   "cell_type": "markdown",
   "metadata": {},
   "source": [
    "#### Dataset to validate was copied from Clark_Rationale_2013s.xls which contains original data and examples from paper (tab '7 - Quantify workout')"
   ]
  },
  {
   "cell_type": "markdown",
   "metadata": {},
   "source": [
    "Rationale and resources for teaching the mathematical modeling of athletic\n",
    "training and performance\n",
    "David C. Clarke1 and Philip F. Skiba2\n",
    "1\n",
    "Department of Biological Engineering, Massachusetts Institute of Technology, Cambridge, Massachusetts; and 2\n",
    "College\n",
    "of Life and Environmental Sciences, University of Exeter, Exeter, United Kingdom\n",
    "Submitted 2 August 2011; accepted in final form 1 February 2013"
   ]
  },
  {
   "cell_type": "code",
   "execution_count": 23,
   "metadata": {},
   "outputs": [],
   "source": [
    "# import libraries\n",
    "import pandas as pd\n",
    "import numpy as np\n",
    "\n",
    "# copy from clipboard to pandas DatFrame\n",
    "df = pd.read_clipboard()"
   ]
  },
  {
   "cell_type": "code",
   "execution_count": 24,
   "metadata": {},
   "outputs": [],
   "source": [
    "# Calculate a 25 second rolling average. Note this can also be done at once without the merge\n",
    "\n",
    "sma = df.power.rolling(window=25).mean().to_frame().rename(columns=lambda x: \"25s_sma_watts\")\n",
    "df = pd.merge(df, sma, left_index=True, right_index=True, how='left')"
   ]
  },
  {
   "cell_type": "code",
   "execution_count": 25,
   "metadata": {},
   "outputs": [],
   "source": [
    "# We fill the zero values in our 25s SMA so we can easily define our first valid rolling 25s value starting point. Since these NaNs only appear in the first 25 secs of the files this is not a problem\n",
    "# Inspired and modified from: https://stackoverflow.com/questions/36923494/pandas-dataframe-use-previous-row-value-for-complicated-if-conditions-to-deter\n",
    "\n",
    "df['25s_sma_watts'] =  df['25s_sma_watts'].fillna(0)\n",
    "\n",
    "# define period. For xPower this is 25\n",
    "\n",
    "n = 25\n",
    "\n",
    "def apply_func_decorator(func):\n",
    "    prev_row = {}\n",
    "    def wrapper(curr_row, **kwargs):\n",
    "        val = func(curr_row, prev_row)\n",
    "        prev_row.update(curr_row)\n",
    "        prev_row['xPower'] = val\n",
    "        return val\n",
    "    return wrapper\n",
    "\n",
    "@apply_func_decorator\n",
    "def running_total(curr_row, prev_row):\n",
    "    return np.where(prev_row.get('25s_sma_watts')==0, curr_row['25s_sma_watts'], (curr_row['25s_sma_watts'] - prev_row.get('xPower', 0))*(2/(n+1)) + prev_row.get('xPower', 0))\n",
    "\n",
    "df['xPower'] = df.apply(running_total, axis=1)"
   ]
  },
  {
   "cell_type": "markdown",
   "metadata": {},
   "source": [
    "#### You will see that the xPower is the same as the EMA which is calculated in the Excel tab cel G42"
   ]
  },
  {
   "cell_type": "code",
   "execution_count": 26,
   "metadata": {},
   "outputs": [
    {
     "data": {
      "text/html": [
       "<div>\n",
       "<style scoped>\n",
       "    .dataframe tbody tr th:only-of-type {\n",
       "        vertical-align: middle;\n",
       "    }\n",
       "\n",
       "    .dataframe tbody tr th {\n",
       "        vertical-align: top;\n",
       "    }\n",
       "\n",
       "    .dataframe thead th {\n",
       "        text-align: right;\n",
       "    }\n",
       "</style>\n",
       "<table border=\"1\" class=\"dataframe\">\n",
       "  <thead>\n",
       "    <tr style=\"text-align: right;\">\n",
       "      <th></th>\n",
       "      <th>power</th>\n",
       "      <th>EMA</th>\n",
       "      <th>25s_sma_watts</th>\n",
       "      <th>xPower</th>\n",
       "    </tr>\n",
       "  </thead>\n",
       "  <tbody>\n",
       "    <tr>\n",
       "      <th>23</th>\n",
       "      <td>0</td>\n",
       "      <td>NaN</td>\n",
       "      <td>0.00</td>\n",
       "      <td>0.00</td>\n",
       "    </tr>\n",
       "    <tr>\n",
       "      <th>24</th>\n",
       "      <td>4</td>\n",
       "      <td>78,84</td>\n",
       "      <td>78.84</td>\n",
       "      <td>78.84</td>\n",
       "    </tr>\n",
       "    <tr>\n",
       "      <th>25</th>\n",
       "      <td>0</td>\n",
       "      <td>78,84</td>\n",
       "      <td>78.84</td>\n",
       "      <td>78.84</td>\n",
       "    </tr>\n",
       "    <tr>\n",
       "      <th>26</th>\n",
       "      <td>0</td>\n",
       "      <td>78,84</td>\n",
       "      <td>78.84</td>\n",
       "      <td>78.84</td>\n",
       "    </tr>\n",
       "  </tbody>\n",
       "</table>\n",
       "</div>"
      ],
      "text/plain": [
       "    power    EMA  25s_sma_watts  xPower\n",
       "23      0    NaN           0.00    0.00\n",
       "24      4  78,84          78.84   78.84\n",
       "25      0  78,84          78.84   78.84\n",
       "26      0  78,84          78.84   78.84"
      ]
     },
     "execution_count": 26,
     "metadata": {},
     "output_type": "execute_result"
    }
   ],
   "source": [
    "df.iloc[23:27,:]"
   ]
  },
  {
   "cell_type": "code",
   "execution_count": 27,
   "metadata": {},
   "outputs": [
    {
     "data": {
      "text/html": [
       "<div>\n",
       "<style scoped>\n",
       "    .dataframe tbody tr th:only-of-type {\n",
       "        vertical-align: middle;\n",
       "    }\n",
       "\n",
       "    .dataframe tbody tr th {\n",
       "        vertical-align: top;\n",
       "    }\n",
       "\n",
       "    .dataframe thead th {\n",
       "        text-align: right;\n",
       "    }\n",
       "</style>\n",
       "<table border=\"1\" class=\"dataframe\">\n",
       "  <thead>\n",
       "    <tr style=\"text-align: right;\">\n",
       "      <th></th>\n",
       "      <th>power</th>\n",
       "      <th>EMA</th>\n",
       "      <th>25s_sma_watts</th>\n",
       "      <th>xPower</th>\n",
       "      <th>Xpower4</th>\n",
       "    </tr>\n",
       "  </thead>\n",
       "  <tbody>\n",
       "    <tr>\n",
       "      <th>23</th>\n",
       "      <td>0</td>\n",
       "      <td>NaN</td>\n",
       "      <td>0.00</td>\n",
       "      <td>0.00</td>\n",
       "      <td>0.000000e+00</td>\n",
       "    </tr>\n",
       "    <tr>\n",
       "      <th>24</th>\n",
       "      <td>4</td>\n",
       "      <td>78,84</td>\n",
       "      <td>78.84</td>\n",
       "      <td>78.84</td>\n",
       "      <td>3.863549e+07</td>\n",
       "    </tr>\n",
       "    <tr>\n",
       "      <th>25</th>\n",
       "      <td>0</td>\n",
       "      <td>78,84</td>\n",
       "      <td>78.84</td>\n",
       "      <td>78.84</td>\n",
       "      <td>3.863549e+07</td>\n",
       "    </tr>\n",
       "  </tbody>\n",
       "</table>\n",
       "</div>"
      ],
      "text/plain": [
       "    power    EMA  25s_sma_watts  xPower       Xpower4\n",
       "23      0    NaN           0.00    0.00  0.000000e+00\n",
       "24      4  78,84          78.84   78.84  3.863549e+07\n",
       "25      0  78,84          78.84   78.84  3.863549e+07"
      ]
     },
     "execution_count": 27,
     "metadata": {},
     "output_type": "execute_result"
    }
   ],
   "source": [
    "df['Xpower4'] = df.xPower**4\n",
    "df.iloc[23:26,:]"
   ]
  },
  {
   "cell_type": "code",
   "execution_count": 28,
   "metadata": {},
   "outputs": [
    {
     "name": "stdout",
     "output_type": "stream",
     "text": [
      "Xpower is 277.9837880287564\n"
     ]
    }
   ],
   "source": [
    "print('Xpower is', np.mean(df.Xpower4)**0.25)"
   ]
  }
 ],
 "metadata": {
  "kernelspec": {
   "display_name": "Python 3",
   "language": "python",
   "name": "python3"
  },
  "language_info": {
   "codemirror_mode": {
    "name": "ipython",
    "version": 3
   },
   "file_extension": ".py",
   "mimetype": "text/x-python",
   "name": "python",
   "nbconvert_exporter": "python",
   "pygments_lexer": "ipython3",
   "version": "3.7.4"
  }
 },
 "nbformat": 4,
 "nbformat_minor": 4
}
